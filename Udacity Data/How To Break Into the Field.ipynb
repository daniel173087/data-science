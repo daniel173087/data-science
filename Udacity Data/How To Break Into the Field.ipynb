{
 "cells": [
  {
   "cell_type": "markdown",
   "metadata": {},
   "source": [
    "### How To Break Into the Field\n",
    "\n",
    "Now you have had a closer look at the data, and you saw how I approached looking at how the survey respondents think you should break into the field.  Let's recreate those results, as well as take a look at another question."
   ]
  },
  {
   "cell_type": "code",
<<<<<<< HEAD
   "execution_count": 2,
   "metadata": {},
   "outputs": [
    {
     "data": {
      "text/html": [
       "<div>\n",
       "<style scoped>\n",
       "    .dataframe tbody tr th:only-of-type {\n",
       "        vertical-align: middle;\n",
       "    }\n",
       "\n",
       "    .dataframe tbody tr th {\n",
       "        vertical-align: top;\n",
       "    }\n",
       "\n",
       "    .dataframe thead th {\n",
       "        text-align: right;\n",
       "    }\n",
       "</style>\n",
       "<table border=\"1\" class=\"dataframe\">\n",
       "  <thead>\n",
       "    <tr style=\"text-align: right;\">\n",
       "      <th></th>\n",
       "      <th>Respondent</th>\n",
       "      <th>Professional</th>\n",
       "      <th>ProgramHobby</th>\n",
       "      <th>Country</th>\n",
       "      <th>University</th>\n",
       "      <th>EmploymentStatus</th>\n",
       "      <th>FormalEducation</th>\n",
       "      <th>MajorUndergrad</th>\n",
       "      <th>HomeRemote</th>\n",
       "      <th>CompanySize</th>\n",
       "      <th>...</th>\n",
       "      <th>StackOverflowMakeMoney</th>\n",
       "      <th>Gender</th>\n",
       "      <th>HighestEducationParents</th>\n",
       "      <th>Race</th>\n",
       "      <th>SurveyLong</th>\n",
       "      <th>QuestionsInteresting</th>\n",
       "      <th>QuestionsConfusing</th>\n",
       "      <th>InterestedAnswers</th>\n",
       "      <th>Salary</th>\n",
       "      <th>ExpectedSalary</th>\n",
       "    </tr>\n",
       "  </thead>\n",
       "  <tbody>\n",
       "    <tr>\n",
       "      <th>0</th>\n",
       "      <td>1</td>\n",
       "      <td>Student</td>\n",
       "      <td>Yes, both</td>\n",
       "      <td>United States</td>\n",
       "      <td>No</td>\n",
       "      <td>Not employed, and not looking for work</td>\n",
       "      <td>Secondary school</td>\n",
       "      <td>NaN</td>\n",
       "      <td>NaN</td>\n",
       "      <td>NaN</td>\n",
       "      <td>...</td>\n",
       "      <td>Strongly disagree</td>\n",
       "      <td>Male</td>\n",
       "      <td>High school</td>\n",
       "      <td>White or of European descent</td>\n",
       "      <td>Strongly disagree</td>\n",
       "      <td>Strongly agree</td>\n",
       "      <td>Disagree</td>\n",
       "      <td>Strongly agree</td>\n",
       "      <td>NaN</td>\n",
       "      <td>NaN</td>\n",
       "    </tr>\n",
       "    <tr>\n",
       "      <th>1</th>\n",
       "      <td>2</td>\n",
       "      <td>Student</td>\n",
       "      <td>Yes, both</td>\n",
       "      <td>United Kingdom</td>\n",
       "      <td>Yes, full-time</td>\n",
       "      <td>Employed part-time</td>\n",
       "      <td>Some college/university study without earning ...</td>\n",
       "      <td>Computer science or software engineering</td>\n",
       "      <td>More than half, but not all, the time</td>\n",
       "      <td>20 to 99 employees</td>\n",
       "      <td>...</td>\n",
       "      <td>Strongly disagree</td>\n",
       "      <td>Male</td>\n",
       "      <td>A master's degree</td>\n",
       "      <td>White or of European descent</td>\n",
       "      <td>Somewhat agree</td>\n",
       "      <td>Somewhat agree</td>\n",
       "      <td>Disagree</td>\n",
       "      <td>Strongly agree</td>\n",
       "      <td>NaN</td>\n",
       "      <td>37500.0</td>\n",
       "    </tr>\n",
       "    <tr>\n",
       "      <th>2</th>\n",
       "      <td>3</td>\n",
       "      <td>Professional developer</td>\n",
       "      <td>Yes, both</td>\n",
       "      <td>United Kingdom</td>\n",
       "      <td>No</td>\n",
       "      <td>Employed full-time</td>\n",
       "      <td>Bachelor's degree</td>\n",
       "      <td>Computer science or software engineering</td>\n",
       "      <td>Less than half the time, but at least one day ...</td>\n",
       "      <td>10,000 or more employees</td>\n",
       "      <td>...</td>\n",
       "      <td>Disagree</td>\n",
       "      <td>Male</td>\n",
       "      <td>A professional degree</td>\n",
       "      <td>White or of European descent</td>\n",
       "      <td>Somewhat agree</td>\n",
       "      <td>Agree</td>\n",
       "      <td>Disagree</td>\n",
       "      <td>Agree</td>\n",
       "      <td>113750.0</td>\n",
       "      <td>NaN</td>\n",
       "    </tr>\n",
       "    <tr>\n",
       "      <th>3</th>\n",
       "      <td>4</td>\n",
       "      <td>Professional non-developer who sometimes write...</td>\n",
       "      <td>Yes, both</td>\n",
       "      <td>United States</td>\n",
       "      <td>No</td>\n",
       "      <td>Employed full-time</td>\n",
       "      <td>Doctoral degree</td>\n",
       "      <td>A non-computer-focused engineering discipline</td>\n",
       "      <td>Less than half the time, but at least one day ...</td>\n",
       "      <td>10,000 or more employees</td>\n",
       "      <td>...</td>\n",
       "      <td>Disagree</td>\n",
       "      <td>Male</td>\n",
       "      <td>A doctoral degree</td>\n",
       "      <td>White or of European descent</td>\n",
       "      <td>Agree</td>\n",
       "      <td>Agree</td>\n",
       "      <td>Somewhat agree</td>\n",
       "      <td>Strongly agree</td>\n",
       "      <td>NaN</td>\n",
       "      <td>NaN</td>\n",
       "    </tr>\n",
       "    <tr>\n",
       "      <th>4</th>\n",
       "      <td>5</td>\n",
       "      <td>Professional developer</td>\n",
       "      <td>Yes, I program as a hobby</td>\n",
       "      <td>Switzerland</td>\n",
       "      <td>No</td>\n",
       "      <td>Employed full-time</td>\n",
       "      <td>Master's degree</td>\n",
       "      <td>Computer science or software engineering</td>\n",
       "      <td>Never</td>\n",
       "      <td>10 to 19 employees</td>\n",
       "      <td>...</td>\n",
       "      <td>NaN</td>\n",
       "      <td>NaN</td>\n",
       "      <td>NaN</td>\n",
       "      <td>NaN</td>\n",
       "      <td>NaN</td>\n",
       "      <td>NaN</td>\n",
       "      <td>NaN</td>\n",
       "      <td>NaN</td>\n",
       "      <td>NaN</td>\n",
       "      <td>NaN</td>\n",
       "    </tr>\n",
       "  </tbody>\n",
       "</table>\n",
       "<p>5 rows × 154 columns</p>\n",
       "</div>"
      ],
      "text/plain": [
       "   Respondent                                       Professional  \\\n",
       "0           1                                            Student   \n",
       "1           2                                            Student   \n",
       "2           3                             Professional developer   \n",
       "3           4  Professional non-developer who sometimes write...   \n",
       "4           5                             Professional developer   \n",
       "\n",
       "                ProgramHobby         Country      University  \\\n",
       "0                  Yes, both   United States              No   \n",
       "1                  Yes, both  United Kingdom  Yes, full-time   \n",
       "2                  Yes, both  United Kingdom              No   \n",
       "3                  Yes, both   United States              No   \n",
       "4  Yes, I program as a hobby     Switzerland              No   \n",
       "\n",
       "                         EmploymentStatus  \\\n",
       "0  Not employed, and not looking for work   \n",
       "1                      Employed part-time   \n",
       "2                      Employed full-time   \n",
       "3                      Employed full-time   \n",
       "4                      Employed full-time   \n",
       "\n",
       "                                     FormalEducation  \\\n",
       "0                                   Secondary school   \n",
       "1  Some college/university study without earning ...   \n",
       "2                                  Bachelor's degree   \n",
       "3                                    Doctoral degree   \n",
       "4                                    Master's degree   \n",
       "\n",
       "                                  MajorUndergrad  \\\n",
       "0                                            NaN   \n",
       "1       Computer science or software engineering   \n",
       "2       Computer science or software engineering   \n",
       "3  A non-computer-focused engineering discipline   \n",
       "4       Computer science or software engineering   \n",
       "\n",
       "                                          HomeRemote  \\\n",
       "0                                                NaN   \n",
       "1              More than half, but not all, the time   \n",
       "2  Less than half the time, but at least one day ...   \n",
       "3  Less than half the time, but at least one day ...   \n",
       "4                                              Never   \n",
       "\n",
       "                CompanySize  ... StackOverflowMakeMoney Gender  \\\n",
       "0                       NaN  ...      Strongly disagree   Male   \n",
       "1        20 to 99 employees  ...      Strongly disagree   Male   \n",
       "2  10,000 or more employees  ...               Disagree   Male   \n",
       "3  10,000 or more employees  ...               Disagree   Male   \n",
       "4        10 to 19 employees  ...                    NaN    NaN   \n",
       "\n",
       "  HighestEducationParents                          Race         SurveyLong  \\\n",
       "0             High school  White or of European descent  Strongly disagree   \n",
       "1       A master's degree  White or of European descent     Somewhat agree   \n",
       "2   A professional degree  White or of European descent     Somewhat agree   \n",
       "3       A doctoral degree  White or of European descent              Agree   \n",
       "4                     NaN                           NaN                NaN   \n",
       "\n",
       "  QuestionsInteresting QuestionsConfusing InterestedAnswers    Salary  \\\n",
       "0       Strongly agree           Disagree    Strongly agree       NaN   \n",
       "1       Somewhat agree           Disagree    Strongly agree       NaN   \n",
       "2                Agree           Disagree             Agree  113750.0   \n",
       "3                Agree     Somewhat agree    Strongly agree       NaN   \n",
       "4                  NaN                NaN               NaN       NaN   \n",
       "\n",
       "   ExpectedSalary  \n",
       "0             NaN  \n",
       "1         37500.0  \n",
       "2             NaN  \n",
       "3             NaN  \n",
       "4             NaN  \n",
       "\n",
       "[5 rows x 154 columns]"
      ]
     },
     "execution_count": 2,
     "metadata": {},
     "output_type": "execute_result"
    }
   ],
=======
   "execution_count": null,
   "metadata": {},
   "outputs": [],
>>>>>>> fe7983d (upload of udacity files)
   "source": [
    "import numpy as np\n",
    "import pandas as pd\n",
    "import matplotlib.pyplot as plt\n",
    "import seaborn as sns\n",
    "import HowToBreakIntoTheField as t\n",
    "%matplotlib inline\n",
    "\n",
    "df = pd.read_csv('./survey_results_public.csv')\n",
    "schema = pd.read_csv('./survey_results_schema.csv')\n",
    "df.head()"
   ]
  },
  {
   "cell_type": "markdown",
   "metadata": {},
   "source": [
    "#### Question 1\n",
    "\n",
    "**1.** In order to understand how to break into the field, we will look at the **CousinEducation** field.  Use the **schema** dataset to answer this question.  Write a function called **get_description** that takes the **schema dataframe** and the **column** as a string, and returns a string of the description for that column."
   ]
  },
  {
   "cell_type": "code",
   "execution_count": null,
   "metadata": {},
   "outputs": [],
   "source": [
    "def get_description(column_name, schema=schema):\n",
    "    '''\n",
    "    INPUT - schema - pandas dataframe with the schema of the developers survey\n",
    "            column_name - string - the name of the column you would like to know about\n",
    "    OUTPUT - \n",
    "            desc - string - the description of the column\n",
    "    '''\n",
    "    desc = \n",
    "    return desc\n",
    "\n",
    "#test your code\n",
    "#Check your function against solution - you shouldn't need to change any of the below code\n",
    "get_description(df.columns[0]) # This should return a string of the first column description"
   ]
  },
  {
   "cell_type": "code",
   "execution_count": null,
   "metadata": {},
   "outputs": [],
   "source": [
    "#Check your function against solution - you shouldn't need to change any of the below code\n",
    "descrips = set(get_description(col) for col in df.columns)\n",
    "t.check_description(descrips)"
   ]
  },
  {
   "cell_type": "markdown",
   "metadata": {},
   "source": [
    "The question we have been focused on has been around how to break into the field.  Use your **get_description** function below to take a closer look at the **CousinEducation** column."
   ]
  },
  {
   "cell_type": "code",
   "execution_count": null,
   "metadata": {},
   "outputs": [],
   "source": [
    "get_description('CousinEducation')"
   ]
  },
  {
   "cell_type": "markdown",
   "metadata": {},
   "source": [
    "#### Question 2\n",
    "\n",
    "**2.** Provide a pandas series of the different **CousinEducation** status values in the dataset.  Store this pandas series in **cous_ed_vals**.  If you are correct, you should see a bar chart of the proportion of individuals in each status.  If it looks terrible, and you get no information from it, then you followed directions.  However, we should clean this up!"
   ]
  },
  {
   "cell_type": "code",
   "execution_count": null,
   "metadata": {},
   "outputs": [],
   "source": [
    "cous_ed_vals = #Provide a pandas series of the counts for each CousinEducation status\n",
    "\n",
    "cous_ed_vals # assure this looks right"
   ]
  },
  {
   "cell_type": "code",
   "execution_count": null,
   "metadata": {},
   "outputs": [],
   "source": [
    "# The below should be a bar chart of the proportion of individuals in your ed_vals\n",
    "# if it is set up correctly.\n",
    "\n",
    "(cous_ed_vals/df.shape[0]).plot(kind=\"bar\");\n",
    "plt.title(\"Formal Education\");"
   ]
  },
  {
   "cell_type": "markdown",
   "metadata": {},
   "source": [
    "We definitely need to clean this.  Above is an example of what happens when you do not clean your data. Below I am using the same code you saw in the earlier video to take a look at the data after it has been cleaned."
   ]
  },
  {
   "cell_type": "code",
<<<<<<< HEAD
   "execution_count": 5,
   "metadata": {},
   "outputs": [
    {
     "data": {
      "image/png": "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",
      "text/plain": [
       "<Figure size 640x480 with 1 Axes>"
      ]
     },
     "metadata": {},
     "output_type": "display_data"
    }
   ],
=======
   "execution_count": null,
   "metadata": {},
   "outputs": [],
>>>>>>> fe7983d (upload of udacity files)
   "source": [
    "possible_vals = [\"Take online courses\", \"Buy books and work through the exercises\", \n",
    "                 \"None of these\", \"Part-time/evening courses\", \"Return to college\",\n",
    "                 \"Contribute to open source\", \"Conferences/meet-ups\", \"Bootcamp\",\n",
    "                 \"Get a job as a QA tester\", \"Participate in online coding competitions\",\n",
    "                 \"Master's degree\", \"Participate in hackathons\", \"Other\"]\n",
    "\n",
    "def clean_and_plot(df, title='Method of Educating Suggested', plot=True):\n",
    "    '''\n",
    "    INPUT \n",
    "        df - a dataframe holding the CousinEducation column\n",
    "        title - string the title of your plot\n",
    "        axis - axis object\n",
    "        plot - bool providing whether or not you want a plot back\n",
    "        \n",
    "    OUTPUT\n",
    "        study_df - a dataframe with the count of how many individuals\n",
    "        Displays a plot of pretty things related to the CousinEducation column.\n",
    "    '''\n",
    "    study = df['CousinEducation'].value_counts().reset_index()\n",
<<<<<<< HEAD
    "    study.columns = ['method', 'count']\n",
=======
    "    study.rename(columns={'index': 'method', 'CousinEducation': 'count'}, inplace=True)\n",
>>>>>>> fe7983d (upload of udacity files)
    "    study_df = t.total_count(study, 'method', 'count', possible_vals)\n",
    "\n",
    "    study_df.set_index('method', inplace=True)\n",
    "    if plot:\n",
    "        (study_df/study_df.sum()).plot(kind='bar', legend=None);\n",
    "        plt.title(title);\n",
    "        plt.show()\n",
    "    props_study_df = study_df/study_df.sum()\n",
    "    return props_study_df\n",
    "    \n",
    "props_df = clean_and_plot(df)"
   ]
  },
  {
   "cell_type": "markdown",
   "metadata": {},
   "source": [
    "#### Question 3\n",
    "\n",
    "**3.** I wonder if some of the individuals might have bias towards their own degrees.  Complete the function below that will apply to the elements of the **FormalEducation** column in **df**. "
   ]
  },
  {
   "cell_type": "code",
<<<<<<< HEAD
   "execution_count": 6,
   "metadata": {},
   "outputs": [
    {
     "data": {
      "text/plain": [
       "0    None\n",
       "1    None\n",
       "2    None\n",
       "3    None\n",
       "4    None\n",
       "Name: FormalEducation, dtype: object"
      ]
     },
     "execution_count": 6,
     "metadata": {},
     "output_type": "execute_result"
    }
   ],
=======
   "execution_count": null,
   "metadata": {},
   "outputs": [],
>>>>>>> fe7983d (upload of udacity files)
   "source": [
    "def higher_ed(formal_ed_str):\n",
    "    '''\n",
    "    INPUT\n",
    "        formal_ed_str - a string of one of the values from the Formal Education column\n",
    "    \n",
    "    OUTPUT\n",
    "        return 1 if the string is  in (\"Master's degree\", \"Professional degree\")\n",
    "        return 0 otherwise\n",
    "    \n",
    "    '''\n",
    "    \n",
    "\n",
    "df[\"FormalEducation\"].apply(higher_ed)[:5] #Test your function to assure it provides 1 and 0 values for the df"
   ]
  },
  {
   "cell_type": "code",
<<<<<<< HEAD
   "execution_count": 7,
   "metadata": {},
   "outputs": [
    {
     "name": "stdout",
     "output_type": "stream",
     "text": [
      "That doesn't look quite like expected.  You can get the percentage of 1's in a 1-0 column by using the .mean() method of a pandas series.\n"
     ]
    }
   ],
=======
   "execution_count": null,
   "metadata": {},
   "outputs": [],
>>>>>>> fe7983d (upload of udacity files)
   "source": [
    "# Check your code here\n",
    "df['HigherEd'] = df[\"FormalEducation\"].apply(higher_ed)\n",
    "higher_ed_perc = df['HigherEd'].mean()\n",
    "t.higher_ed_test(higher_ed_perc)"
   ]
  },
  {
   "cell_type": "markdown",
   "metadata": {},
   "source": [
    "#### Question 4\n",
    "\n",
    "**4.** Now we would like to find out if the proportion of individuals who completed one of these three programs feel differently than those that did not. Store a dataframe of only the individual's who had **HigherEd** equal to 1 in **ed_1**.  Similarly, store a dataframe of only the **HigherEd** equal to 0 values in **ed_0**.\n",
    "\n",
    "Notice, you have already created the **HigherEd** column using the check code portion above, so here you only need to subset the dataframe using this newly created column."
   ]
  },
  {
   "cell_type": "code",
   "execution_count": null,
   "metadata": {},
   "outputs": [],
   "source": [
    "ed_1 = # Subset df to only those with HigherEd of 1\n",
    "ed_0 = # Subset df to only those with HigherEd of 0\n",
    "\n",
    "\n",
    "print(ed_1['HigherEd'][:5]) #Assure it looks like what you would expect\n",
    "print(ed_0['HigherEd'][:5]) #Assure it looks like what you would expect"
   ]
  },
  {
   "cell_type": "code",
   "execution_count": null,
   "metadata": {},
   "outputs": [],
   "source": [
    "#Check your subset is correct - you should get a plot that was created using pandas styling\n",
    "#which you can learn more about here: https://pandas.pydata.org/pandas-docs/stable/style.html\n",
    "\n",
    "ed_1_perc = clean_and_plot(ed_1, 'Higher Formal Education', plot=False)\n",
    "ed_0_perc = clean_and_plot(ed_0, 'Max of Bachelors Higher Ed', plot=False)\n",
    "\n",
    "comp_df = pd.merge(ed_1_perc, ed_0_perc, left_index=True, right_index=True)\n",
    "comp_df.columns = ['ed_1_perc', 'ed_0_perc']\n",
    "comp_df['Diff_HigherEd_Vals'] = comp_df['ed_1_perc'] - comp_df['ed_0_perc']\n",
    "comp_df.style.bar(subset=['Diff_HigherEd_Vals'], align='mid', color=['#d65f5f', '#5fba7d'])"
   ]
  },
  {
   "cell_type": "markdown",
   "metadata": {},
   "source": [
    "#### Question 5\n",
    "\n",
    "**5.** What can you conclude from the above plot?  Change the dictionary to mark **True** for the keys of any statements you can conclude, and **False** for any of the statements you cannot conclude."
   ]
  },
  {
   "cell_type": "code",
   "execution_count": null,
   "metadata": {},
   "outputs": [],
   "source": [
    "sol = {'Everyone should get a higher level of formal education': False, \n",
    "       'Regardless of formal education, online courses are the top suggested form of education': False,\n",
    "       'There is less than a 1% difference between suggestions of the two groups for all forms of education': False,\n",
    "       'Those with higher formal education suggest it more than those who do not have it': False}\n",
    "\n",
    "t.conclusions(sol)"
   ]
  },
  {
   "cell_type": "markdown",
   "metadata": {},
   "source": [
    "This concludes another look at the way we could compare education methods by those currently writing code in industry."
   ]
  },
  {
   "cell_type": "code",
   "execution_count": null,
   "metadata": {},
   "outputs": [],
   "source": []
  }
 ],
 "metadata": {
  "kernelspec": {
<<<<<<< HEAD
   "display_name": "daniel_data_science",
=======
   "display_name": "Python 3",
>>>>>>> fe7983d (upload of udacity files)
   "language": "python",
   "name": "python3"
  },
  "language_info": {
   "codemirror_mode": {
    "name": "ipython",
    "version": 3
   },
   "file_extension": ".py",
   "mimetype": "text/x-python",
   "name": "python",
   "nbconvert_exporter": "python",
   "pygments_lexer": "ipython3",
<<<<<<< HEAD
   "version": "3.12.5"
=======
   "version": "3.6.3"
>>>>>>> fe7983d (upload of udacity files)
  }
 },
 "nbformat": 4,
 "nbformat_minor": 2
}
