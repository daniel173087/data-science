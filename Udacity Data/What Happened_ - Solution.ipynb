{
 "cells": [
  {
   "cell_type": "markdown",
   "metadata": {},
   "source": [
    "### First Try of Predicting Salary\n",
    "\n",
    "For the last two questions regarding what are related to relationships of variables with salary and job satisfaction - Each of these questions will involve not only building some sort of predictive model, but also finding and interpretting the influential components of whatever model we build.\n",
    "\n",
    "To get started let's read in the necessary libraries and take a look at some of our columns of interest."
   ]
  },
  {
   "cell_type": "code",
<<<<<<< HEAD
   "execution_count": 1,
   "metadata": {},
   "outputs": [
    {
     "data": {
      "text/html": [
       "<div>\n",
       "<style scoped>\n",
       "    .dataframe tbody tr th:only-of-type {\n",
       "        vertical-align: middle;\n",
       "    }\n",
       "\n",
       "    .dataframe tbody tr th {\n",
       "        vertical-align: top;\n",
       "    }\n",
       "\n",
       "    .dataframe thead th {\n",
       "        text-align: right;\n",
       "    }\n",
       "</style>\n",
       "<table border=\"1\" class=\"dataframe\">\n",
       "  <thead>\n",
       "    <tr style=\"text-align: right;\">\n",
       "      <th></th>\n",
       "      <th>Respondent</th>\n",
       "      <th>Professional</th>\n",
       "      <th>ProgramHobby</th>\n",
       "      <th>Country</th>\n",
       "      <th>University</th>\n",
       "      <th>EmploymentStatus</th>\n",
       "      <th>FormalEducation</th>\n",
       "      <th>MajorUndergrad</th>\n",
       "      <th>HomeRemote</th>\n",
       "      <th>CompanySize</th>\n",
       "      <th>...</th>\n",
       "      <th>StackOverflowMakeMoney</th>\n",
       "      <th>Gender</th>\n",
       "      <th>HighestEducationParents</th>\n",
       "      <th>Race</th>\n",
       "      <th>SurveyLong</th>\n",
       "      <th>QuestionsInteresting</th>\n",
       "      <th>QuestionsConfusing</th>\n",
       "      <th>InterestedAnswers</th>\n",
       "      <th>Salary</th>\n",
       "      <th>ExpectedSalary</th>\n",
       "    </tr>\n",
       "  </thead>\n",
       "  <tbody>\n",
       "    <tr>\n",
       "      <th>0</th>\n",
       "      <td>1</td>\n",
       "      <td>Student</td>\n",
       "      <td>Yes, both</td>\n",
       "      <td>United States</td>\n",
       "      <td>No</td>\n",
       "      <td>Not employed, and not looking for work</td>\n",
       "      <td>Secondary school</td>\n",
       "      <td>NaN</td>\n",
       "      <td>NaN</td>\n",
       "      <td>NaN</td>\n",
       "      <td>...</td>\n",
       "      <td>Strongly disagree</td>\n",
       "      <td>Male</td>\n",
       "      <td>High school</td>\n",
       "      <td>White or of European descent</td>\n",
       "      <td>Strongly disagree</td>\n",
       "      <td>Strongly agree</td>\n",
       "      <td>Disagree</td>\n",
       "      <td>Strongly agree</td>\n",
       "      <td>NaN</td>\n",
       "      <td>NaN</td>\n",
       "    </tr>\n",
       "    <tr>\n",
       "      <th>1</th>\n",
       "      <td>2</td>\n",
       "      <td>Student</td>\n",
       "      <td>Yes, both</td>\n",
       "      <td>United Kingdom</td>\n",
       "      <td>Yes, full-time</td>\n",
       "      <td>Employed part-time</td>\n",
       "      <td>Some college/university study without earning ...</td>\n",
       "      <td>Computer science or software engineering</td>\n",
       "      <td>More than half, but not all, the time</td>\n",
       "      <td>20 to 99 employees</td>\n",
       "      <td>...</td>\n",
       "      <td>Strongly disagree</td>\n",
       "      <td>Male</td>\n",
       "      <td>A master's degree</td>\n",
       "      <td>White or of European descent</td>\n",
       "      <td>Somewhat agree</td>\n",
       "      <td>Somewhat agree</td>\n",
       "      <td>Disagree</td>\n",
       "      <td>Strongly agree</td>\n",
       "      <td>NaN</td>\n",
       "      <td>37500.0</td>\n",
       "    </tr>\n",
       "    <tr>\n",
       "      <th>2</th>\n",
       "      <td>3</td>\n",
       "      <td>Professional developer</td>\n",
       "      <td>Yes, both</td>\n",
       "      <td>United Kingdom</td>\n",
       "      <td>No</td>\n",
       "      <td>Employed full-time</td>\n",
       "      <td>Bachelor's degree</td>\n",
       "      <td>Computer science or software engineering</td>\n",
       "      <td>Less than half the time, but at least one day ...</td>\n",
       "      <td>10,000 or more employees</td>\n",
       "      <td>...</td>\n",
       "      <td>Disagree</td>\n",
       "      <td>Male</td>\n",
       "      <td>A professional degree</td>\n",
       "      <td>White or of European descent</td>\n",
       "      <td>Somewhat agree</td>\n",
       "      <td>Agree</td>\n",
       "      <td>Disagree</td>\n",
       "      <td>Agree</td>\n",
       "      <td>113750.0</td>\n",
       "      <td>NaN</td>\n",
       "    </tr>\n",
       "    <tr>\n",
       "      <th>3</th>\n",
       "      <td>4</td>\n",
       "      <td>Professional non-developer who sometimes write...</td>\n",
       "      <td>Yes, both</td>\n",
       "      <td>United States</td>\n",
       "      <td>No</td>\n",
       "      <td>Employed full-time</td>\n",
       "      <td>Doctoral degree</td>\n",
       "      <td>A non-computer-focused engineering discipline</td>\n",
       "      <td>Less than half the time, but at least one day ...</td>\n",
       "      <td>10,000 or more employees</td>\n",
       "      <td>...</td>\n",
       "      <td>Disagree</td>\n",
       "      <td>Male</td>\n",
       "      <td>A doctoral degree</td>\n",
       "      <td>White or of European descent</td>\n",
       "      <td>Agree</td>\n",
       "      <td>Agree</td>\n",
       "      <td>Somewhat agree</td>\n",
       "      <td>Strongly agree</td>\n",
       "      <td>NaN</td>\n",
       "      <td>NaN</td>\n",
       "    </tr>\n",
       "    <tr>\n",
       "      <th>4</th>\n",
       "      <td>5</td>\n",
       "      <td>Professional developer</td>\n",
       "      <td>Yes, I program as a hobby</td>\n",
       "      <td>Switzerland</td>\n",
       "      <td>No</td>\n",
       "      <td>Employed full-time</td>\n",
       "      <td>Master's degree</td>\n",
       "      <td>Computer science or software engineering</td>\n",
       "      <td>Never</td>\n",
       "      <td>10 to 19 employees</td>\n",
       "      <td>...</td>\n",
       "      <td>NaN</td>\n",
       "      <td>NaN</td>\n",
       "      <td>NaN</td>\n",
       "      <td>NaN</td>\n",
       "      <td>NaN</td>\n",
       "      <td>NaN</td>\n",
       "      <td>NaN</td>\n",
       "      <td>NaN</td>\n",
       "      <td>NaN</td>\n",
       "      <td>NaN</td>\n",
       "    </tr>\n",
       "  </tbody>\n",
       "</table>\n",
       "<p>5 rows × 154 columns</p>\n",
       "</div>"
      ],
      "text/plain": [
       "   Respondent                                       Professional  \\\n",
       "0           1                                            Student   \n",
       "1           2                                            Student   \n",
       "2           3                             Professional developer   \n",
       "3           4  Professional non-developer who sometimes write...   \n",
       "4           5                             Professional developer   \n",
       "\n",
       "                ProgramHobby         Country      University  \\\n",
       "0                  Yes, both   United States              No   \n",
       "1                  Yes, both  United Kingdom  Yes, full-time   \n",
       "2                  Yes, both  United Kingdom              No   \n",
       "3                  Yes, both   United States              No   \n",
       "4  Yes, I program as a hobby     Switzerland              No   \n",
       "\n",
       "                         EmploymentStatus  \\\n",
       "0  Not employed, and not looking for work   \n",
       "1                      Employed part-time   \n",
       "2                      Employed full-time   \n",
       "3                      Employed full-time   \n",
       "4                      Employed full-time   \n",
       "\n",
       "                                     FormalEducation  \\\n",
       "0                                   Secondary school   \n",
       "1  Some college/university study without earning ...   \n",
       "2                                  Bachelor's degree   \n",
       "3                                    Doctoral degree   \n",
       "4                                    Master's degree   \n",
       "\n",
       "                                  MajorUndergrad  \\\n",
       "0                                            NaN   \n",
       "1       Computer science or software engineering   \n",
       "2       Computer science or software engineering   \n",
       "3  A non-computer-focused engineering discipline   \n",
       "4       Computer science or software engineering   \n",
       "\n",
       "                                          HomeRemote  \\\n",
       "0                                                NaN   \n",
       "1              More than half, but not all, the time   \n",
       "2  Less than half the time, but at least one day ...   \n",
       "3  Less than half the time, but at least one day ...   \n",
       "4                                              Never   \n",
       "\n",
       "                CompanySize  ... StackOverflowMakeMoney Gender  \\\n",
       "0                       NaN  ...      Strongly disagree   Male   \n",
       "1        20 to 99 employees  ...      Strongly disagree   Male   \n",
       "2  10,000 or more employees  ...               Disagree   Male   \n",
       "3  10,000 or more employees  ...               Disagree   Male   \n",
       "4        10 to 19 employees  ...                    NaN    NaN   \n",
       "\n",
       "  HighestEducationParents                          Race         SurveyLong  \\\n",
       "0             High school  White or of European descent  Strongly disagree   \n",
       "1       A master's degree  White or of European descent     Somewhat agree   \n",
       "2   A professional degree  White or of European descent     Somewhat agree   \n",
       "3       A doctoral degree  White or of European descent              Agree   \n",
       "4                     NaN                           NaN                NaN   \n",
       "\n",
       "  QuestionsInteresting QuestionsConfusing InterestedAnswers    Salary  \\\n",
       "0       Strongly agree           Disagree    Strongly agree       NaN   \n",
       "1       Somewhat agree           Disagree    Strongly agree       NaN   \n",
       "2                Agree           Disagree             Agree  113750.0   \n",
       "3                Agree     Somewhat agree    Strongly agree       NaN   \n",
       "4                  NaN                NaN               NaN       NaN   \n",
       "\n",
       "   ExpectedSalary  \n",
       "0             NaN  \n",
       "1         37500.0  \n",
       "2             NaN  \n",
       "3             NaN  \n",
       "4             NaN  \n",
       "\n",
       "[5 rows x 154 columns]"
      ]
     },
     "execution_count": 1,
     "metadata": {},
     "output_type": "execute_result"
    }
   ],
=======
   "execution_count": null,
   "metadata": {},
   "outputs": [],
>>>>>>> fe7983d (upload of udacity files)
   "source": [
    "import numpy as np\n",
    "import pandas as pd\n",
    "import matplotlib.pyplot as plt\n",
    "from sklearn.linear_model import LinearRegression\n",
    "from sklearn.model_selection import train_test_split\n",
    "from sklearn.metrics import r2_score, mean_squared_error\n",
    "import WhatHappened as t\n",
    "import seaborn as sns\n",
    "%matplotlib inline\n",
    "\n",
    "df = pd.read_csv('./survey_results_public.csv')\n",
    "df.head()"
   ]
  },
  {
   "cell_type": "markdown",
   "metadata": {},
   "source": [
    "Now take a look at the summary statistics associated with the quantitative variables in your dataset. "
   ]
  },
  {
   "cell_type": "code",
<<<<<<< HEAD
   "execution_count": 2,
   "metadata": {},
   "outputs": [
    {
     "data": {
      "text/html": [
       "<div>\n",
       "<style scoped>\n",
       "    .dataframe tbody tr th:only-of-type {\n",
       "        vertical-align: middle;\n",
       "    }\n",
       "\n",
       "    .dataframe tbody tr th {\n",
       "        vertical-align: top;\n",
       "    }\n",
       "\n",
       "    .dataframe thead th {\n",
       "        text-align: right;\n",
       "    }\n",
       "</style>\n",
       "<table border=\"1\" class=\"dataframe\">\n",
       "  <thead>\n",
       "    <tr style=\"text-align: right;\">\n",
       "      <th></th>\n",
       "      <th>Respondent</th>\n",
       "      <th>CareerSatisfaction</th>\n",
       "      <th>JobSatisfaction</th>\n",
       "      <th>HoursPerWeek</th>\n",
       "      <th>StackOverflowSatisfaction</th>\n",
       "      <th>Salary</th>\n",
       "      <th>ExpectedSalary</th>\n",
       "    </tr>\n",
       "  </thead>\n",
       "  <tbody>\n",
       "    <tr>\n",
       "      <th>count</th>\n",
       "      <td>19102.000000</td>\n",
       "      <td>16102.000000</td>\n",
       "      <td>15253.000000</td>\n",
       "      <td>7721.000000</td>\n",
       "      <td>13452.000000</td>\n",
       "      <td>5009.000000</td>\n",
       "      <td>818.000000</td>\n",
       "    </tr>\n",
       "    <tr>\n",
       "      <th>mean</th>\n",
       "      <td>9551.500000</td>\n",
       "      <td>7.343932</td>\n",
       "      <td>7.000721</td>\n",
       "      <td>3.685922</td>\n",
       "      <td>8.357865</td>\n",
       "      <td>58341.398571</td>\n",
       "      <td>32231.521687</td>\n",
       "    </tr>\n",
       "    <tr>\n",
       "      <th>std</th>\n",
       "      <td>5514.416757</td>\n",
       "      <td>1.919330</td>\n",
       "      <td>2.128648</td>\n",
       "      <td>7.330691</td>\n",
       "      <td>1.405546</td>\n",
       "      <td>40753.384986</td>\n",
       "      <td>28543.877274</td>\n",
       "    </tr>\n",
       "    <tr>\n",
       "      <th>min</th>\n",
       "      <td>1.000000</td>\n",
       "      <td>0.000000</td>\n",
       "      <td>0.000000</td>\n",
       "      <td>0.000000</td>\n",
       "      <td>0.000000</td>\n",
       "      <td>0.000000</td>\n",
       "      <td>0.000000</td>\n",
       "    </tr>\n",
       "    <tr>\n",
       "      <th>25%</th>\n",
       "      <td>4776.250000</td>\n",
       "      <td>6.000000</td>\n",
       "      <td>6.000000</td>\n",
       "      <td>0.000000</td>\n",
       "      <td>8.000000</td>\n",
       "      <td>27956.989247</td>\n",
       "      <td>4716.459735</td>\n",
       "    </tr>\n",
       "    <tr>\n",
       "      <th>50%</th>\n",
       "      <td>9551.500000</td>\n",
       "      <td>8.000000</td>\n",
       "      <td>7.000000</td>\n",
       "      <td>1.000000</td>\n",
       "      <td>8.000000</td>\n",
       "      <td>51612.903226</td>\n",
       "      <td>29784.946237</td>\n",
       "    </tr>\n",
       "    <tr>\n",
       "      <th>75%</th>\n",
       "      <td>14326.750000</td>\n",
       "      <td>9.000000</td>\n",
       "      <td>8.000000</td>\n",
       "      <td>3.000000</td>\n",
       "      <td>9.000000</td>\n",
       "      <td>83333.333333</td>\n",
       "      <td>50000.000000</td>\n",
       "    </tr>\n",
       "    <tr>\n",
       "      <th>max</th>\n",
       "      <td>19102.000000</td>\n",
       "      <td>10.000000</td>\n",
       "      <td>10.000000</td>\n",
       "      <td>40.000000</td>\n",
       "      <td>10.000000</td>\n",
       "      <td>195000.000000</td>\n",
       "      <td>120000.000000</td>\n",
       "    </tr>\n",
       "  </tbody>\n",
       "</table>\n",
       "</div>"
      ],
      "text/plain": [
       "         Respondent  CareerSatisfaction  JobSatisfaction  HoursPerWeek  \\\n",
       "count  19102.000000        16102.000000     15253.000000   7721.000000   \n",
       "mean    9551.500000            7.343932         7.000721      3.685922   \n",
       "std     5514.416757            1.919330         2.128648      7.330691   \n",
       "min        1.000000            0.000000         0.000000      0.000000   \n",
       "25%     4776.250000            6.000000         6.000000      0.000000   \n",
       "50%     9551.500000            8.000000         7.000000      1.000000   \n",
       "75%    14326.750000            9.000000         8.000000      3.000000   \n",
       "max    19102.000000           10.000000        10.000000     40.000000   \n",
       "\n",
       "       StackOverflowSatisfaction         Salary  ExpectedSalary  \n",
       "count               13452.000000    5009.000000      818.000000  \n",
       "mean                    8.357865   58341.398571    32231.521687  \n",
       "std                     1.405546   40753.384986    28543.877274  \n",
       "min                     0.000000       0.000000        0.000000  \n",
       "25%                     8.000000   27956.989247     4716.459735  \n",
       "50%                     8.000000   51612.903226    29784.946237  \n",
       "75%                     9.000000   83333.333333    50000.000000  \n",
       "max                    10.000000  195000.000000   120000.000000  "
      ]
     },
     "execution_count": 2,
     "metadata": {},
     "output_type": "execute_result"
    }
   ],
=======
   "execution_count": null,
   "metadata": {},
   "outputs": [],
>>>>>>> fe7983d (upload of udacity files)
   "source": [
    "df.describe()"
   ]
  },
  {
   "cell_type": "markdown",
   "metadata": {},
   "source": [
    "#### Question 1\n",
    "\n",
    "**1.** Use the above to match each variable (a, b, c, d, e, or f) as the appropriate key that describes the value in the **desc_sol** dictionary."
   ]
  },
  {
   "cell_type": "code",
<<<<<<< HEAD
   "execution_count": 3,
   "metadata": {},
   "outputs": [
    {
     "name": "stdout",
     "output_type": "stream",
     "text": [
      "Nice job that looks right!\n"
     ]
    }
   ],
=======
   "execution_count": null,
   "metadata": {},
   "outputs": [],
>>>>>>> fe7983d (upload of udacity files)
   "source": [
    "a = 40\n",
    "b = 'HoursPerWeek'\n",
    "c = 'Salary'\n",
    "d = 'Respondent'\n",
    "e = 10\n",
    "f = 'ExpectedSalary'\n",
    "\n",
    "desc_sol = {'A column just listing an index for each row': d,\n",
    "       'The maximum Satisfaction on the scales for the survey': e,\n",
    "       'The column with the most missing values': f,\n",
    "       'The variable with the highest spread of values': c}\n",
    "\n",
    "# Check your solution\n",
    "t.describe_check(desc_sol)"
   ]
  },
  {
   "cell_type": "markdown",
   "metadata": {},
   "source": [
    "A picture can often tell us more than numbers."
   ]
  },
  {
   "cell_type": "code",
<<<<<<< HEAD
   "execution_count": 4,
   "metadata": {},
   "outputs": [
    {
     "data": {
      "image/png": "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",
      "text/plain": [
       "<Figure size 640x480 with 9 Axes>"
      ]
     },
     "metadata": {},
     "output_type": "display_data"
    }
   ],
=======
   "execution_count": null,
   "metadata": {},
   "outputs": [],
>>>>>>> fe7983d (upload of udacity files)
   "source": [
    "df.hist();"
   ]
  },
  {
   "cell_type": "markdown",
   "metadata": {},
   "source": [
    "Often a useful plot is a correlation matrix - this can tell you which variables are related to one another."
   ]
  },
  {
   "cell_type": "code",
<<<<<<< HEAD
   "execution_count": 6,
   "metadata": {},
   "outputs": [
    {
     "ename": "ValueError",
     "evalue": "could not convert string to float: 'Student'",
     "output_type": "error",
     "traceback": [
      "\u001b[0;31m---------------------------------------------------------------------------\u001b[0m",
      "\u001b[0;31mValueError\u001b[0m                                Traceback (most recent call last)",
      "Cell \u001b[0;32mIn[6], line 1\u001b[0m\n\u001b[0;32m----> 1\u001b[0m sns\u001b[38;5;241m.\u001b[39mheatmap(\u001b[43mdf\u001b[49m\u001b[38;5;241;43m.\u001b[39;49m\u001b[43mcorr\u001b[49m\u001b[43m(\u001b[49m\u001b[43m)\u001b[49m, annot\u001b[38;5;241m=\u001b[39m\u001b[38;5;28;01mTrue\u001b[39;00m, fmt\u001b[38;5;241m=\u001b[39m\u001b[38;5;124m\"\u001b[39m\u001b[38;5;124m.2f\u001b[39m\u001b[38;5;124m\"\u001b[39m);\n",
      "File \u001b[0;32m/opt/anaconda3/envs/daniel_data_science/lib/python3.12/site-packages/pandas/core/frame.py:11049\u001b[0m, in \u001b[0;36mDataFrame.corr\u001b[0;34m(self, method, min_periods, numeric_only)\u001b[0m\n\u001b[1;32m  11047\u001b[0m cols \u001b[38;5;241m=\u001b[39m data\u001b[38;5;241m.\u001b[39mcolumns\n\u001b[1;32m  11048\u001b[0m idx \u001b[38;5;241m=\u001b[39m cols\u001b[38;5;241m.\u001b[39mcopy()\n\u001b[0;32m> 11049\u001b[0m mat \u001b[38;5;241m=\u001b[39m \u001b[43mdata\u001b[49m\u001b[38;5;241;43m.\u001b[39;49m\u001b[43mto_numpy\u001b[49m\u001b[43m(\u001b[49m\u001b[43mdtype\u001b[49m\u001b[38;5;241;43m=\u001b[39;49m\u001b[38;5;28;43mfloat\u001b[39;49m\u001b[43m,\u001b[49m\u001b[43m \u001b[49m\u001b[43mna_value\u001b[49m\u001b[38;5;241;43m=\u001b[39;49m\u001b[43mnp\u001b[49m\u001b[38;5;241;43m.\u001b[39;49m\u001b[43mnan\u001b[49m\u001b[43m,\u001b[49m\u001b[43m \u001b[49m\u001b[43mcopy\u001b[49m\u001b[38;5;241;43m=\u001b[39;49m\u001b[38;5;28;43;01mFalse\u001b[39;49;00m\u001b[43m)\u001b[49m\n\u001b[1;32m  11051\u001b[0m \u001b[38;5;28;01mif\u001b[39;00m method \u001b[38;5;241m==\u001b[39m \u001b[38;5;124m\"\u001b[39m\u001b[38;5;124mpearson\u001b[39m\u001b[38;5;124m\"\u001b[39m:\n\u001b[1;32m  11052\u001b[0m     correl \u001b[38;5;241m=\u001b[39m libalgos\u001b[38;5;241m.\u001b[39mnancorr(mat, minp\u001b[38;5;241m=\u001b[39mmin_periods)\n",
      "File \u001b[0;32m/opt/anaconda3/envs/daniel_data_science/lib/python3.12/site-packages/pandas/core/frame.py:1993\u001b[0m, in \u001b[0;36mDataFrame.to_numpy\u001b[0;34m(self, dtype, copy, na_value)\u001b[0m\n\u001b[1;32m   1991\u001b[0m \u001b[38;5;28;01mif\u001b[39;00m dtype \u001b[38;5;129;01mis\u001b[39;00m \u001b[38;5;129;01mnot\u001b[39;00m \u001b[38;5;28;01mNone\u001b[39;00m:\n\u001b[1;32m   1992\u001b[0m     dtype \u001b[38;5;241m=\u001b[39m np\u001b[38;5;241m.\u001b[39mdtype(dtype)\n\u001b[0;32m-> 1993\u001b[0m result \u001b[38;5;241m=\u001b[39m \u001b[38;5;28;43mself\u001b[39;49m\u001b[38;5;241;43m.\u001b[39;49m\u001b[43m_mgr\u001b[49m\u001b[38;5;241;43m.\u001b[39;49m\u001b[43mas_array\u001b[49m\u001b[43m(\u001b[49m\u001b[43mdtype\u001b[49m\u001b[38;5;241;43m=\u001b[39;49m\u001b[43mdtype\u001b[49m\u001b[43m,\u001b[49m\u001b[43m \u001b[49m\u001b[43mcopy\u001b[49m\u001b[38;5;241;43m=\u001b[39;49m\u001b[43mcopy\u001b[49m\u001b[43m,\u001b[49m\u001b[43m \u001b[49m\u001b[43mna_value\u001b[49m\u001b[38;5;241;43m=\u001b[39;49m\u001b[43mna_value\u001b[49m\u001b[43m)\u001b[49m\n\u001b[1;32m   1994\u001b[0m \u001b[38;5;28;01mif\u001b[39;00m result\u001b[38;5;241m.\u001b[39mdtype \u001b[38;5;129;01mis\u001b[39;00m \u001b[38;5;129;01mnot\u001b[39;00m dtype:\n\u001b[1;32m   1995\u001b[0m     result \u001b[38;5;241m=\u001b[39m np\u001b[38;5;241m.\u001b[39masarray(result, dtype\u001b[38;5;241m=\u001b[39mdtype)\n",
      "File \u001b[0;32m/opt/anaconda3/envs/daniel_data_science/lib/python3.12/site-packages/pandas/core/internals/managers.py:1694\u001b[0m, in \u001b[0;36mBlockManager.as_array\u001b[0;34m(self, dtype, copy, na_value)\u001b[0m\n\u001b[1;32m   1692\u001b[0m         arr\u001b[38;5;241m.\u001b[39mflags\u001b[38;5;241m.\u001b[39mwriteable \u001b[38;5;241m=\u001b[39m \u001b[38;5;28;01mFalse\u001b[39;00m\n\u001b[1;32m   1693\u001b[0m \u001b[38;5;28;01melse\u001b[39;00m:\n\u001b[0;32m-> 1694\u001b[0m     arr \u001b[38;5;241m=\u001b[39m \u001b[38;5;28;43mself\u001b[39;49m\u001b[38;5;241;43m.\u001b[39;49m\u001b[43m_interleave\u001b[49m\u001b[43m(\u001b[49m\u001b[43mdtype\u001b[49m\u001b[38;5;241;43m=\u001b[39;49m\u001b[43mdtype\u001b[49m\u001b[43m,\u001b[49m\u001b[43m \u001b[49m\u001b[43mna_value\u001b[49m\u001b[38;5;241;43m=\u001b[39;49m\u001b[43mna_value\u001b[49m\u001b[43m)\u001b[49m\n\u001b[1;32m   1695\u001b[0m     \u001b[38;5;66;03m# The underlying data was copied within _interleave, so no need\u001b[39;00m\n\u001b[1;32m   1696\u001b[0m     \u001b[38;5;66;03m# to further copy if copy=True or setting na_value\u001b[39;00m\n\u001b[1;32m   1698\u001b[0m \u001b[38;5;28;01mif\u001b[39;00m na_value \u001b[38;5;129;01mis\u001b[39;00m lib\u001b[38;5;241m.\u001b[39mno_default:\n",
      "File \u001b[0;32m/opt/anaconda3/envs/daniel_data_science/lib/python3.12/site-packages/pandas/core/internals/managers.py:1753\u001b[0m, in \u001b[0;36mBlockManager._interleave\u001b[0;34m(self, dtype, na_value)\u001b[0m\n\u001b[1;32m   1751\u001b[0m     \u001b[38;5;28;01melse\u001b[39;00m:\n\u001b[1;32m   1752\u001b[0m         arr \u001b[38;5;241m=\u001b[39m blk\u001b[38;5;241m.\u001b[39mget_values(dtype)\n\u001b[0;32m-> 1753\u001b[0m     \u001b[43mresult\u001b[49m\u001b[43m[\u001b[49m\u001b[43mrl\u001b[49m\u001b[38;5;241;43m.\u001b[39;49m\u001b[43mindexer\u001b[49m\u001b[43m]\u001b[49m \u001b[38;5;241m=\u001b[39m arr\n\u001b[1;32m   1754\u001b[0m     itemmask[rl\u001b[38;5;241m.\u001b[39mindexer] \u001b[38;5;241m=\u001b[39m \u001b[38;5;241m1\u001b[39m\n\u001b[1;32m   1756\u001b[0m \u001b[38;5;28;01mif\u001b[39;00m \u001b[38;5;129;01mnot\u001b[39;00m itemmask\u001b[38;5;241m.\u001b[39mall():\n",
      "\u001b[0;31mValueError\u001b[0m: could not convert string to float: 'Student'"
     ]
    }
   ],
=======
   "execution_count": null,
   "metadata": {},
   "outputs": [],
>>>>>>> fe7983d (upload of udacity files)
   "source": [
    "sns.heatmap(df.corr(), annot=True, fmt=\".2f\");"
   ]
  },
  {
   "cell_type": "markdown",
   "metadata": {},
   "source": [
    "#### Question 2\n",
    "\n",
    "**2.** Use the scatterplot matrix above to match each variable (a, b, c, d, e, f, or g) as the appropriate key that describes the value in the **scatter_sol** dictionary."
   ]
  },
  {
   "cell_type": "code",
<<<<<<< HEAD
   "execution_count": 7,
   "metadata": {},
   "outputs": [
    {
     "name": "stdout",
     "output_type": "stream",
     "text": [
      "Nice job that looks right!\n"
     ]
    }
   ],
=======
   "execution_count": null,
   "metadata": {},
   "outputs": [],
>>>>>>> fe7983d (upload of udacity files)
   "source": [
    "a = 0.65\n",
    "b = -0.01\n",
    "c = 'ExpectedSalary'\n",
    "d = 'No'\n",
    "e = 'Yes'\n",
    "f = 'CareerSatisfaction'\n",
    "g = -0.15\n",
    "\n",
    "scatter_sol = {'The column with the strongest correlation with Salary': f,\n",
    "       'The data suggests more hours worked relates to higher salary': d,\n",
    "       'Data in the ______ column meant missing data in three other columns': c,\n",
    "       'The strongest negative relationship had what correlation?': g}\n",
    "\n",
    "t.scatter_check(scatter_sol)"
   ]
  },
  {
   "cell_type": "markdown",
   "metadata": {},
   "source": [
    "Here we move our quantitative variables to an X matrix, which we will use to predict our response.  We also create our response.  We then split our data into training and testing data.  Then when starting our four step process, our fit step breaks.  \n",
    "\n",
    "### Remember from the video, this code will break"
   ]
  },
  {
   "cell_type": "code",
<<<<<<< HEAD
   "execution_count": 8,
   "metadata": {},
   "outputs": [
    {
     "ename": "TypeError",
     "evalue": "LinearRegression.__init__() got an unexpected keyword argument 'normalize'",
     "output_type": "error",
     "traceback": [
      "\u001b[0;31m---------------------------------------------------------------------------\u001b[0m",
      "\u001b[0;31mTypeError\u001b[0m                                 Traceback (most recent call last)",
      "Cell \u001b[0;32mIn[8], line 10\u001b[0m\n\u001b[1;32m      5\u001b[0m X_train, X_test, y_train, y_test \u001b[38;5;241m=\u001b[39m train_test_split(X, y, test_size \u001b[38;5;241m=\u001b[39m \u001b[38;5;241m.30\u001b[39m, random_state\u001b[38;5;241m=\u001b[39m\u001b[38;5;241m42\u001b[39m)\n\u001b[1;32m      7\u001b[0m \u001b[38;5;66;03m#Four steps:\u001b[39;00m\n\u001b[1;32m      8\u001b[0m \n\u001b[1;32m      9\u001b[0m \u001b[38;5;66;03m#Instantiate\u001b[39;00m\n\u001b[0;32m---> 10\u001b[0m lm_model \u001b[38;5;241m=\u001b[39m \u001b[43mLinearRegression\u001b[49m\u001b[43m(\u001b[49m\u001b[43mnormalize\u001b[49m\u001b[38;5;241;43m=\u001b[39;49m\u001b[38;5;28;43;01mTrue\u001b[39;49;00m\u001b[43m)\u001b[49m \n\u001b[1;32m     12\u001b[0m \u001b[38;5;66;03m#Fit - why does this break?\u001b[39;00m\n\u001b[1;32m     13\u001b[0m lm_model\u001b[38;5;241m.\u001b[39mfit(X_train, y_train) \n",
      "\u001b[0;31mTypeError\u001b[0m: LinearRegression.__init__() got an unexpected keyword argument 'normalize'"
     ]
    }
   ],
=======
   "execution_count": null,
   "metadata": {},
   "outputs": [],
>>>>>>> fe7983d (upload of udacity files)
   "source": [
    "# Consider only numerical variables\n",
    "X = df[['CareerSatisfaction', 'HoursPerWeek', 'JobSatisfaction', 'StackOverflowSatisfaction']]\n",
    "y = df['Salary']\n",
    "\n",
    "X_train, X_test, y_train, y_test = train_test_split(X, y, test_size = .30, random_state=42)\n",
    "\n",
    "#Four steps:\n",
    "\n",
    "#Instantiate\n",
    "lm_model = LinearRegression(normalize=True) \n",
    "\n",
    "#Fit - why does this break?\n",
    "lm_model.fit(X_train, y_train) \n",
    "\n",
    "#Predict\n",
    "#Score"
   ]
  },
  {
   "cell_type": "markdown",
   "metadata": {},
   "source": [
    "#### Question 3\n",
    "\n",
    "**3.** Use the results above to match each variable (a, b, c, d, e, or f) as the appropriate key that describes the value in the **lm_fit_sol** dictionary."
   ]
  },
  {
   "cell_type": "code",
   "execution_count": null,
   "metadata": {},
   "outputs": [],
   "source": [
    "a = 'it is a way to assure your model extends well to new data'\n",
    "b = 'it assures the same train and test split will occur for different users'\n",
    "c = 'there is no correct match of this question'\n",
    "d = 'sklearn fit methods cannot accept NAN values'\n",
    "e = 'it is just a convention people do that will likely go away soon'\n",
    "f = 'python just breaks for no reason sometimes'\n",
    "\n",
    "lm_fit_sol = {'What is the reason that the fit method broke?': d,\n",
    "       'What does the random_state parameter do for the train_test_split function?': b,\n",
    "       'What is the purpose of creating a train test split?': a}\n",
    "\n",
    "t.lm_fit_check(lm_fit_sol)"
   ]
  }
 ],
 "metadata": {
  "kernelspec": {
<<<<<<< HEAD
   "display_name": "daniel_data_science",
=======
   "display_name": "Python 3",
>>>>>>> fe7983d (upload of udacity files)
   "language": "python",
   "name": "python3"
  },
  "language_info": {
   "codemirror_mode": {
    "name": "ipython",
    "version": 3
   },
   "file_extension": ".py",
   "mimetype": "text/x-python",
   "name": "python",
   "nbconvert_exporter": "python",
   "pygments_lexer": "ipython3",
<<<<<<< HEAD
   "version": "3.12.5"
=======
   "version": "3.6.3"
>>>>>>> fe7983d (upload of udacity files)
  }
 },
 "nbformat": 4,
 "nbformat_minor": 2
}
